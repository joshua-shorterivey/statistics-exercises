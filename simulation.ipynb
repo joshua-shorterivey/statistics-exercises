{
 "cells": [
  {
   "cell_type": "markdown",
   "id": "e43403cb-6d66-4191-ab97-39cb27499b1e",
   "metadata": {},
   "source": [
    "Exercises\n",
    "\n",
    "Using the repo setup directions, setup a new local and remote repository named statistics-exercises. The local version of your repo should live inside of ~/codeup-data-science. This repo should be named statistics-exercises\n",
    "\n",
    "Do your work for this exercise in either a python file named simulation.py or a jupyter notebook named simulation.ipynb."
   ]
  },
  {
   "cell_type": "code",
   "execution_count": 1,
   "id": "99c78b30-2be5-4019-8420-83b5c17f7160",
   "metadata": {},
   "outputs": [],
   "source": [
    "import numpy as np\n",
    "import pandas as pd\n",
    "np.random.seed(29)"
   ]
  },
  {
   "cell_type": "markdown",
   "id": "908fdaa0-76aa-44a3-b7d9-e63c5c6bbd9a",
   "metadata": {},
   "source": [
    "1. How likely is it that you roll doubles when rolling two dice?\n",
    "    - 0.1633"
   ]
  },
  {
   "cell_type": "code",
   "execution_count": 13,
   "id": "2606ab11-8197-48fb-a205-8dcb2d8d71b4",
   "metadata": {},
   "outputs": [],
   "source": [
    "#set up options for roll. assume 6 sided\n",
    "#do tests where two dice are rolled \n",
    "#figure out how many of the tests came out with both dice being the same. --> make note of how to access list members inside of numpy array"
   ]
  },
  {
   "cell_type": "code",
   "execution_count": 40,
   "id": "2a62d6a6-74e6-4abc-8523-63dd74646376",
   "metadata": {},
   "outputs": [],
   "source": [
    "rolls1 = np.random.choice(['1', '2', '3', '4', '5', '6'], size=(10_000, 2)) "
   ]
  },
  {
   "cell_type": "code",
   "execution_count": 41,
   "id": "36192175-75f8-4842-b843-da87da44510c",
   "metadata": {
    "tags": []
   },
   "outputs": [],
   "source": [
    "doubles = rolls1[:,0] == rolls1[:,1]"
   ]
  },
  {
   "cell_type": "code",
   "execution_count": 42,
   "id": "ec92d8d2-f54d-4000-bc19-0b6be64dedd2",
   "metadata": {},
   "outputs": [
    {
     "data": {
      "text/plain": [
       "0.1633"
      ]
     },
     "execution_count": 42,
     "metadata": {},
     "output_type": "execute_result"
    }
   ],
   "source": [
    "(doubles == True).mean()"
   ]
  },
  {
   "cell_type": "markdown",
   "id": "6ccc05f3-17b5-466f-acdf-6ba3094b943e",
   "metadata": {},
   "source": [
    "2. If you flip 8 coins, what is the probability of getting exactly 3 heads? What is the probability of getting more than 3 heads?\n",
    "   - 0.2216"
   ]
  },
  {
   "cell_type": "code",
   "execution_count": 43,
   "id": "4d29f35e-8003-44a5-8214-c364fb7b8541",
   "metadata": {},
   "outputs": [],
   "source": [
    "#set up options for the flips\n",
    "#do the flips and assign to variable\n",
    "flips1 = np.random.choice(['H', 'T'], size=(10_000, 8) )"
   ]
  },
  {
   "cell_type": "code",
   "execution_count": 50,
   "id": "642d53f2-44cd-4695-bf3b-aab672abdddd",
   "metadata": {},
   "outputs": [],
   "source": [
    "#count number of heads in each set of 8 flips (the rows) and assign to variable\n",
    "head_count = (flips1 == 'H').sum(axis=1)"
   ]
  },
  {
   "cell_type": "code",
   "execution_count": 52,
   "id": "1a2c8c8c-3afe-440f-bc4e-28f3e0bba034",
   "metadata": {},
   "outputs": [
    {
     "data": {
      "text/plain": [
       "0.2216"
      ]
     },
     "execution_count": 52,
     "metadata": {},
     "output_type": "execute_result"
    }
   ],
   "source": [
    "#check head_count rows for rows with head_count of 3\n",
    "#use mean to figure out the percetange of all the flips \n",
    "(head_count == 3).mean()"
   ]
  },
  {
   "cell_type": "markdown",
   "id": "dea8d868-6583-42cc-8490-858f0bb33c55",
   "metadata": {},
   "source": [
    "There are approximitely 3 web development cohorts for every 1 data science cohort at Codeup. Assuming that Codeup randomly selects an alumni to put on a billboard, what are the odds that the two billboards I drive past both have data science students on them?\n",
    "\n",
    "0.2517"
   ]
  },
  {
   "cell_type": "code",
   "execution_count": 55,
   "id": "6429e4fb-783e-4bac-8479-fdc720255ba6",
   "metadata": {},
   "outputs": [],
   "source": [
    "#set up choice options with probabilities for each\n",
    "billboards = np.random.choice(['wd', 'ds'], size=(10_000, 2), p=[.75, .25])"
   ]
  },
  {
   "cell_type": "code",
   "execution_count": 68,
   "id": "5605e90c-41f9-48f9-a238-0d79364dc082",
   "metadata": {},
   "outputs": [
    {
     "data": {
      "text/plain": [
       "5034"
      ]
     },
     "execution_count": 68,
     "metadata": {},
     "output_type": "execute_result"
    }
   ],
   "source": [
    "#find and total where both billboards (a row) are 'ds' (data science)\n",
    "(billboards == ('ds', 'ds')).sum()"
   ]
  },
  {
   "cell_type": "code",
   "execution_count": 69,
   "id": "747c31a6-9cfc-4445-ad62-6b6f379440e1",
   "metadata": {},
   "outputs": [
    {
     "data": {
      "text/plain": [
       "0.2517"
      ]
     },
     "execution_count": 69,
     "metadata": {},
     "output_type": "execute_result"
    }
   ],
   "source": [
    "#calculate proportion of total simulations (1000) that meet the criteria\n",
    "(billboards == ('ds', 'ds')).mean()"
   ]
  },
  {
   "cell_type": "markdown",
   "id": "24649a79-b295-48a0-91d5-b2e31161ab15",
   "metadata": {},
   "source": [
    "Codeup students buy, on average, 3 poptart packages with a standard deviation of 1.5 a day from the snack vending machine. If on monday the machine is restocked with 17 poptart packages, how likely is it that I will be able to buy some poptarts on Friday afternoon? (Remember, if you have mean and standard deviation, use the np.random.normal) You'll need to make a judgement call on how to handle some of your values\n",
    "    - 0.9103"
   ]
  },
  {
   "cell_type": "code",
   "execution_count": 84,
   "id": "1b741e2b-73dd-4e79-9ca4-02110e8b72cd",
   "metadata": {},
   "outputs": [],
   "source": [
    "#generate random daily poptart values --> just use the size keyword. \n",
    "def daily_poptart():\n",
    "    return np.random.normal(loc=3, scale=1.5)\n",
    "#generate 5 random poptart values to get one week of random poptarts\n",
    "weekly_poptarts = [daily_poptart() for n in range(4)]\n",
    "weekly_poptarts"
   ]
  },
  {
   "cell_type": "code",
   "execution_count": 92,
   "id": "14b03596-1a6f-4ad3-826f-97ffb0ed8466",
   "metadata": {},
   "outputs": [],
   "source": [
    "#generate array with weeks(rows) of 4 days (mon-thur) worth of poptart purchases\n",
    "weekly_poptarts = np.random.normal(loc=3, scale=1.5, size=(10_000, 4))"
   ]
  },
  {
   "cell_type": "code",
   "execution_count": 95,
   "id": "d570da1b-08f7-46ef-b7dc-8495e016bc4e",
   "metadata": {},
   "outputs": [
    {
     "data": {
      "text/plain": [
       "array([[2.42906507, 2.46387183, 4.41413546, 3.2832918 ],\n",
       "       [4.22070906, 2.83954935, 1.77150541, 4.75107998],\n",
       "       [2.53867692, 3.39561915, 1.14046151, 1.30644852],\n",
       "       ...,\n",
       "       [0.24320391, 3.43394498, 3.03830732, 2.39103099],\n",
       "       [5.42987724, 1.85827302, 2.23060552, 0.86674667],\n",
       "       [3.71389468, 5.31258567, 2.21096157, 2.75875431]])"
      ]
     },
     "execution_count": 95,
     "metadata": {},
     "output_type": "execute_result"
    }
   ],
   "source": [
    "weekly_poptarts"
   ]
  },
  {
   "cell_type": "code",
   "execution_count": 94,
   "id": "398b5e32-13ef-48d9-a542-bfb99da176b7",
   "metadata": {},
   "outputs": [
    {
     "data": {
      "text/plain": [
       "array([12.59036416, 13.58284379,  8.38120609, ...,  9.1064872 ,\n",
       "       10.38550244, 13.99619623])"
      ]
     },
     "execution_count": 94,
     "metadata": {},
     "output_type": "execute_result"
    }
   ],
   "source": [
    "#sum each week of poptars, and then check which weeks (mon-thur) have totals at or below 16\n",
    "weekly_poptarts.sum(axis=1)"
   ]
  },
  {
   "cell_type": "code",
   "execution_count": 101,
   "id": "7e196d82-c262-4b1c-aa1c-9621525b90a0",
   "metadata": {},
   "outputs": [],
   "source": [
    "#do the same as above but use np.ceil to round up. better to over estimate poptart purchases than under in order to manage expectations. let's assign it to a variable for clarity. \n",
    "\n",
    "cumulative_poptarts = np.ceil(weekly_poptarts.sum(axis=1)).astype(int)"
   ]
  },
  {
   "cell_type": "code",
   "execution_count": 104,
   "id": "843ea7cd-c86e-4024-a80c-006555005957",
   "metadata": {},
   "outputs": [
    {
     "data": {
      "text/plain": [
       "0.9103"
      ]
     },
     "execution_count": 104,
     "metadata": {},
     "output_type": "execute_result"
    }
   ],
   "source": [
    "#take average (mean) of the number of weeks in which 16 or less poptarts were purchased from mon-thurs\n",
    "(cumulative_poptarts <= 16).mean() "
   ]
  },
  {
   "cell_type": "markdown",
   "id": "c9adb926-fef6-482e-bc65-17f43d656ebc",
   "metadata": {},
   "source": [
    "Compare Heights\n",
    "\n",
    "Men have an average height of 178 cm and standard deviation of 8cm.\n",
    "Women have a mean of 170, sd = 6cm.\n",
    "Since you have means and standard deviations, you can use np.random.normal to generate observations."
   ]
  },
  {
   "cell_type": "code",
   "execution_count": 154,
   "id": "31b24260-ca7e-44d3-8162-c8da4657fff6",
   "metadata": {},
   "outputs": [],
   "source": [
    "#generate random m and w heights\n",
    "heights = np.random.normal(loc=(178, 170), scale=(8,6), size=(10_000, 2)) # --> can use two means and sd's for concurrent simulations\n"
   ]
  },
  {
   "cell_type": "code",
   "execution_count": 160,
   "id": "3b7f505a-6ba5-4270-8a08-2d6d9e310862",
   "metadata": {},
   "outputs": [
    {
     "data": {
      "text/plain": [
       "array([[175.65484189, 175.81856708],\n",
       "       [186.28752337, 166.81528575],\n",
       "       [173.39343277, 154.27573041],\n",
       "       ...,\n",
       "       [178.92882615, 170.42311659],\n",
       "       [171.82907847, 167.88825143],\n",
       "       [178.48794764, 173.61360174]])"
      ]
     },
     "execution_count": 160,
     "metadata": {},
     "output_type": "execute_result"
    }
   ],
   "source": [
    "heights"
   ]
  },
  {
   "cell_type": "markdown",
   "id": "00aab80c-1f91-4b09-8ec3-9b543d715217",
   "metadata": {},
   "source": [
    "If a man and woman are chosen at random, what is the likelihood the woman is taller than the man?\n",
    "    - 0.2091"
   ]
  },
  {
   "cell_type": "code",
   "execution_count": 159,
   "id": "0330fd37-e939-4c62-97eb-9ad1dd51602a",
   "metadata": {},
   "outputs": [
    {
     "data": {
      "text/plain": [
       "0.2091"
      ]
     },
     "execution_count": 159,
     "metadata": {},
     "output_type": "execute_result"
    }
   ],
   "source": [
    "(heights[:,0] < heights[:,1]).mean()"
   ]
  },
  {
   "cell_type": "markdown",
   "id": "d7762c75-65ac-48fb-9b06-6dbdc9e10497",
   "metadata": {},
   "source": [
    "When installing anaconda on a student's computer, there's a 1 in 250 chance that the download is corrupted and the installation fails.\n",
    "What are the odds that after having 50 students download anaconda, no one has an installation issue? \n",
    "- .81877\n",
    "\n",
    "100 students?\n",
    "- .66817"
   ]
  },
  {
   "cell_type": "code",
   "execution_count": 173,
   "id": "3582d652-8654-4726-991d-56980186dd03",
   "metadata": {},
   "outputs": [],
   "source": [
    "#this is a coin flip with weighted odds\n",
    "fifty_installs = np.random.choice(['success', 'fail'], size=(100_000, 50), p=[.996, .004])"
   ]
  },
  {
   "cell_type": "code",
   "execution_count": 174,
   "id": "0018dfd9-2f02-4f65-af3c-10f6bd41bac0",
   "metadata": {},
   "outputs": [],
   "source": [
    "has_fails = (fifty_installs == 'fail').sum(axis=1)"
   ]
  },
  {
   "cell_type": "code",
   "execution_count": 177,
   "id": "eadda2a9-b647-4d5c-b78a-b265cbe93d0b",
   "metadata": {},
   "outputs": [
    {
     "data": {
      "text/plain": [
       "0.81877"
      ]
     },
     "execution_count": 177,
     "metadata": {},
     "output_type": "execute_result"
    }
   ],
   "source": [
    "(has_fails == 0).mean()"
   ]
  },
  {
   "cell_type": "code",
   "execution_count": 178,
   "id": "6f254244-6ac1-4acd-8d02-3af85073ce0b",
   "metadata": {},
   "outputs": [
    {
     "data": {
      "text/plain": [
       "0.66817"
      ]
     },
     "execution_count": 178,
     "metadata": {},
     "output_type": "execute_result"
    }
   ],
   "source": [
    "hundred_installs = np.random.choice(['success', 'fail'], size=(100_000, 100), p=[.996, .004])\n",
    "fails = (hundred_installs == 'fail').sum(axis=1)\n",
    "(fails == 0).mean()"
   ]
  },
  {
   "cell_type": "markdown",
   "id": "891cae6c-5101-4b39-abeb-6d7950ed5b0f",
   "metadata": {},
   "source": [
    "What is the probability that we observe an installation issue within the first 150 students that download anaconda?\n",
    "- .44956"
   ]
  },
  {
   "cell_type": "code",
   "execution_count": 179,
   "id": "f8390806-05f3-4d84-b9f9-297a62b1247f",
   "metadata": {},
   "outputs": [
    {
     "data": {
      "text/plain": [
       "0.44956"
      ]
     },
     "execution_count": 179,
     "metadata": {},
     "output_type": "execute_result"
    }
   ],
   "source": [
    "one_fifty_installs = np.random.choice(['success', 'fail'], size=(100_000, 150), p=[.996, .004])\n",
    "fails_two = (one_fifty_installs == 'fail').sum(axis=1)\n",
    "(fails_two > 0).mean()"
   ]
  },
  {
   "cell_type": "markdown",
   "id": "4ac65098-3a6b-4f41-a2e9-c2a5e21ab74d",
   "metadata": {},
   "source": [
    "How likely is it that 450 students all download anaconda without an issue?\n",
    "- .16356"
   ]
  },
  {
   "cell_type": "code",
   "execution_count": 180,
   "id": "85764f67-8288-4694-8ea5-a3926ccb0489",
   "metadata": {},
   "outputs": [
    {
     "data": {
      "text/plain": [
       "0.16356"
      ]
     },
     "execution_count": 180,
     "metadata": {},
     "output_type": "execute_result"
    }
   ],
   "source": [
    "four_fifty_installs = np.random.choice(['success', 'fail'], size=(100_000, 450), p=[.996, .004])\n",
    "fails_three = (four_fifty_installs == 'fail').sum(axis=1)\n",
    "(fails_three == 0).mean()"
   ]
  },
  {
   "cell_type": "markdown",
   "id": "9e454418-514f-42e6-9e23-ec9c08089f64",
   "metadata": {},
   "source": [
    "There's a 70% chance on any given day that there will be at least one food truck at Travis Park. However, you haven't seen a food truck there in 3 days. How unlikely is this?\n",
    "- 0.02629"
   ]
  },
  {
   "cell_type": "code",
   "execution_count": 190,
   "id": "8061ee2d-242e-40f6-a028-6a3398466432",
   "metadata": {},
   "outputs": [],
   "source": [
    "#a batch 3 binary choices - truck/no_truck --> dont forget to add in the percentage weights\n",
    "travis_park = np.random.choice(['truck', 'no_truck'], size=(100_000, 3), p=[.7, .3])"
   ]
  },
  {
   "cell_type": "code",
   "execution_count": 191,
   "id": "c605744b-4144-457d-8dfe-f6da02844342",
   "metadata": {},
   "outputs": [],
   "source": [
    "#count days within each interval (row) that a truck showed up\n",
    "truck_days = (travis_park == 'truck').sum(axis=1)"
   ]
  },
  {
   "cell_type": "code",
   "execution_count": 192,
   "id": "fe1d0256-da34-4f01-8203-353c3ecc7bf4",
   "metadata": {},
   "outputs": [
    {
     "data": {
      "text/plain": [
       "0.02629"
      ]
     },
     "execution_count": 192,
     "metadata": {},
     "output_type": "execute_result"
    }
   ],
   "source": [
    "#find average of intervals where no truck showed up\n",
    "(truck_days == 0).mean()"
   ]
  },
  {
   "cell_type": "markdown",
   "id": "c2fd7ce3-3373-4f97-9450-ddee4a8cbf87",
   "metadata": {},
   "source": [
    "How likely is it that a food truck will show up sometime this week?\n",
    "- .9998"
   ]
  },
  {
   "cell_type": "code",
   "execution_count": 193,
   "id": "bf7eb908-e6a3-4bd4-ba77-06bd7ae51dc0",
   "metadata": {},
   "outputs": [],
   "source": [
    "weekly_trucks = np.random.choice(['truck', 'no_truck'], size=(100_000, 7), p=[.7, .3])"
   ]
  },
  {
   "cell_type": "code",
   "execution_count": 196,
   "id": "13685c49-6964-4576-9e4c-334f36cebc4e",
   "metadata": {},
   "outputs": [],
   "source": [
    "days_with_truck = (weekly_trucks == 'truck').sum(axis=1)"
   ]
  },
  {
   "cell_type": "code",
   "execution_count": 197,
   "id": "f3dc9e11-2f5a-45ad-8b3d-0e145b75967b",
   "metadata": {},
   "outputs": [
    {
     "data": {
      "text/plain": [
       "0.9998"
      ]
     },
     "execution_count": 197,
     "metadata": {},
     "output_type": "execute_result"
    }
   ],
   "source": [
    "(days_with_truck > 0).mean()"
   ]
  },
  {
   "cell_type": "markdown",
   "id": "e7e7a7c9-a89b-445f-a172-b87ad3d66692",
   "metadata": {},
   "source": [
    "If 23 people are in the same room, what are the odds that two of them share a birthday?\n",
    "- .3639\n",
    "\n",
    "What if it's 20 people? \n",
    "- .3232\n",
    "\n",
    "40?\n",
    "- .2626"
   ]
  },
  {
   "cell_type": "code",
   "execution_count": 211,
   "id": "8ded52e4-5d67-4496-9374-c992dc5cdf47",
   "metadata": {},
   "outputs": [],
   "source": [
    "twenty_three_bdays = np.random.choice(range(365), size=(10_000, 23))"
   ]
  },
  {
   "cell_type": "code",
   "execution_count": 219,
   "id": "ada3299e-e40b-466f-8f60-0838f661c3b4",
   "metadata": {},
   "outputs": [],
   "source": [
    "twenty_three_df = pd.DataFrame(twenty_three_bdays)"
   ]
  },
  {
   "cell_type": "code",
   "execution_count": 227,
   "id": "cca2168a-d0b8-4e27-bebb-02147fcedea7",
   "metadata": {},
   "outputs": [
    {
     "data": {
      "text/plain": [
       "0.3639"
      ]
     },
     "execution_count": 227,
     "metadata": {},
     "output_type": "execute_result"
    }
   ],
   "source": [
    "(twenty_three_df.nunique(axis=1) == 22).mean()"
   ]
  },
  {
   "cell_type": "code",
   "execution_count": 231,
   "id": "5e1bf7d7-9dc9-40e6-84e4-24aa69d0989f",
   "metadata": {},
   "outputs": [
    {
     "data": {
      "text/plain": [
       "0.3232"
      ]
     },
     "execution_count": 231,
     "metadata": {},
     "output_type": "execute_result"
    }
   ],
   "source": [
    "twenty_people = np.random.choice(range(365), size=(10_000, 20))\n",
    "twenty_df = pd.DataFrame(twenty_people)\n",
    "(twenty_df.nunique(axis=1) == 19).mean()"
   ]
  },
  {
   "cell_type": "code",
   "execution_count": 230,
   "id": "abc189fe-2bc6-4793-a98a-baa1ec4b77b7",
   "metadata": {},
   "outputs": [],
   "source": []
  },
  {
   "cell_type": "code",
   "execution_count": 232,
   "id": "06c6e944-e5d6-4898-b020-eb936da50ac2",
   "metadata": {},
   "outputs": [
    {
     "data": {
      "text/plain": [
       "0.2626"
      ]
     },
     "execution_count": 232,
     "metadata": {},
     "output_type": "execute_result"
    }
   ],
   "source": [
    "forty_people_df = pd.DataFrame(np.random.choice(range(365), size=(10_000, 40)))\n",
    "(forty_people_df.nunique(axis=1) == 39).mean()"
   ]
  }
 ],
 "metadata": {
  "kernelspec": {
   "display_name": "Python 3 (ipykernel)",
   "language": "python",
   "name": "python3"
  },
  "language_info": {
   "codemirror_mode": {
    "name": "ipython",
    "version": 3
   },
   "file_extension": ".py",
   "mimetype": "text/x-python",
   "name": "python",
   "nbconvert_exporter": "python",
   "pygments_lexer": "ipython3",
   "version": "3.9.12"
  }
 },
 "nbformat": 4,
 "nbformat_minor": 5
}
