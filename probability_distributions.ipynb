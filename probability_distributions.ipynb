{
 "cells": [
  {
   "cell_type": "markdown",
   "id": "8921c365-6a91-4502-aaca-f184a44b14c2",
   "metadata": {},
   "source": [
    "Exercises\n",
    "\n",
    "#hint\n",
    "you can feed more than one value into a cdf or a ppf\n",
    "use a list formate [low_val, high_val]\n",
    "ex: some_distribution.cdf([4,7])\n",
    "\n",
    "Do your work for this exercise in either a python script named probability_distributions.py or a jupyter notebook named probability_distributions.ipynb.\n",
    "\n",
    "For the following problems, use python to simulate the problem and calculate an experimental probability, then compare that to the theoretical probability."
   ]
  },
  {
   "cell_type": "code",
   "execution_count": 6,
   "id": "ea52fb05-8796-482c-ac0c-2530c18a5c76",
   "metadata": {},
   "outputs": [],
   "source": [
    "import matplotlib.pyplot as plt\n",
    "import numpy as np\n",
    "import pandas as pd\n",
    "from scipy import stats"
   ]
  },
  {
   "cell_type": "markdown",
   "id": "6bfd009b-ec9e-40d6-b031-cc06347a0ddc",
   "metadata": {},
   "source": [
    "A bank found that the average number of cars waiting during the noon hour at a drive-up window follows a Poisson distribution with a mean of 2 cars. Make a chart of this distribution and answer these questions concerning the probability of cars waiting at the drive-up window."
   ]
  },
  {
   "cell_type": "code",
   "execution_count": 7,
   "id": "28700ab8-a23b-4fe5-85b7-9f7552119736",
   "metadata": {},
   "outputs": [
    {
     "data": {
      "text/plain": [
       "<BarContainer object of 10 artists>"
      ]
     },
     "execution_count": 7,
     "metadata": {},
     "output_type": "execute_result"
    },
    {
     "data": {
      "image/png": "[encoded data removed]",
      "text/plain": [
       "<Figure size 432x288 with 1 Axes>"
      ]
     },
     "metadata": {
      "needs_background": "light"
     },
     "output_type": "display_data"
    }
   ],
   "source": [
    "x = np.arange(0, 10)\n",
    "y = stats.poisson(2).pmf(x)\n",
    "\n",
    "plt.bar(x,y)"
   ]
  },
  {
   "cell_type": "markdown",
   "id": "9419a5ac-59bc-49c0-98ab-b90763c2891f",
   "metadata": {},
   "source": [
    "What is the probability that no cars drive up in the noon hour?"
   ]
  },
  {
   "cell_type": "code",
   "execution_count": 8,
   "id": "b827606e-3610-43a7-a610-b01dd1f76867",
   "metadata": {},
   "outputs": [
    {
     "data": {
      "text/plain": [
       "0.1353352832366127"
      ]
     },
     "execution_count": 8,
     "metadata": {},
     "output_type": "execute_result"
    }
   ],
   "source": [
    "stats.poisson(2).pmf(0)"
   ]
  },
  {
   "cell_type": "markdown",
   "id": "ec0fbabf-e1f7-459a-9840-c22d0cbf73fb",
   "metadata": {},
   "source": [
    "What is the probability that 3 or more cars come through the drive through?"
   ]
  },
  {
   "cell_type": "code",
   "execution_count": 9,
   "id": "1c609742-df71-491f-a576-964bbb6b7958",
   "metadata": {},
   "outputs": [
    {
     "data": {
      "text/plain": [
       "0.32332358381693654"
      ]
     },
     "execution_count": 9,
     "metadata": {},
     "output_type": "execute_result"
    }
   ],
   "source": [
    "stats.poisson(2).sf(2)"
   ]
  },
  {
   "cell_type": "markdown",
   "id": "4757b599-44c0-49bd-96e9-6040adcdb8fd",
   "metadata": {},
   "source": [
    "How likely is it that the drive through gets at least 1 car?"
   ]
  },
  {
   "cell_type": "code",
   "execution_count": 10,
   "id": "d1d69c2c-73b8-4a74-8f24-839847e8d944",
   "metadata": {},
   "outputs": [
    {
     "data": {
      "text/plain": [
       "0.8646647167633873"
      ]
     },
     "execution_count": 10,
     "metadata": {},
     "output_type": "execute_result"
    }
   ],
   "source": [
    "stats.poisson(2).sf(0)"
   ]
  },
  {
   "cell_type": "markdown",
   "id": "11b10cb1-5127-43c3-9535-856e08f94942",
   "metadata": {},
   "source": [
    "## Grades of State University graduates are normally distributed with a mean of 3.0 and a standard deviation of .3. Calculate the following:"
   ]
  },
  {
   "cell_type": "code",
   "execution_count": 11,
   "id": "ca026dff-9663-4684-810c-eac8d9a9c732",
   "metadata": {},
   "outputs": [],
   "source": [
    "μ = 3.0\n",
    "σ = .3\n",
    "\n",
    "grad_dist = stats.norm(μ, σ)"
   ]
  },
  {
   "cell_type": "code",
   "execution_count": 12,
   "id": "fee2f738-ceed-45d1-af95-a0e46ae0aad2",
   "metadata": {},
   "outputs": [
    {
     "data": {
      "text/plain": [
       "[<matplotlib.lines.Line2D at 0x15a0dcbb0>]"
      ]
     },
     "execution_count": 12,
     "metadata": {},
     "output_type": "execute_result"
    },
    {
     "data": {
      "image/png": "[encoded data removed]",
      "text/plain": [
       "<Figure size 432x288 with 1 Axes>"
      ]
     },
     "metadata": {
      "needs_background": "light"
     },
     "output_type": "display_data"
    }
   ],
   "source": [
    "x = np.arange(0, 5, .001)\n",
    "\n",
    "plt.plot(x, stats.norm.pdf(x, μ, σ))"
   ]
  },
  {
   "cell_type": "markdown",
   "id": "27ab16cb-60a4-4cf6-bc5c-cdd8d672a808",
   "metadata": {},
   "source": [
    "What grade point average is required to be in the top 5% of the graduating class?"
   ]
  },
  {
   "cell_type": "code",
   "execution_count": 13,
   "id": "ec6ccb4c-1576-4bf4-add2-ddd640aac4a9",
   "metadata": {},
   "outputs": [
    {
     "data": {
      "text/plain": [
       "3.4934560880854417"
      ]
     },
     "execution_count": 13,
     "metadata": {},
     "output_type": "execute_result"
    }
   ],
   "source": [
    "grad_dist.isf(.05)"
   ]
  },
  {
   "cell_type": "markdown",
   "id": "27aaf531-e0ee-48d7-b846-16698c843244",
   "metadata": {},
   "source": [
    "What GPA constitutes the bottom 15% of the class?"
   ]
  },
  {
   "cell_type": "code",
   "execution_count": 14,
   "id": "cbdcbe19-5838-4125-957d-8462cbe34dbb",
   "metadata": {},
   "outputs": [
    {
     "data": {
      "text/plain": [
       "2.689069983151863"
      ]
     },
     "execution_count": 14,
     "metadata": {},
     "output_type": "execute_result"
    }
   ],
   "source": [
    "grad_dist.ppf(.15)"
   ]
  },
  {
   "cell_type": "markdown",
   "id": "4671d14a-3509-440f-aa1d-beb3a43e3e59",
   "metadata": {},
   "source": [
    "An eccentric alumnus left scholarship money for students in the third decile from the bottom of their class. Determine the range of the third decile. Would a student with a 2.8 grade point average qualify for this scholarship?"
   ]
  },
  {
   "cell_type": "code",
   "execution_count": 15,
   "id": "f84d6b9f-427f-4215-b5b7-7c47b7badece",
   "metadata": {},
   "outputs": [
    {
     "data": {
      "text/plain": [
       "array([2.74751363, 2.84267985])"
      ]
     },
     "execution_count": 15,
     "metadata": {},
     "output_type": "execute_result"
    }
   ],
   "source": [
    "grad_dist.ppf([.20, .30])"
   ]
  },
  {
   "cell_type": "markdown",
   "id": "312aaa63-8c23-459c-af21-1d51a939ca11",
   "metadata": {},
   "source": [
    "If I have a GPA of 3.5, what percentile am I in?"
   ]
  },
  {
   "cell_type": "code",
   "execution_count": 16,
   "id": "f1609148-5970-4ade-812b-130b284e4579",
   "metadata": {},
   "outputs": [
    {
     "data": {
      "text/plain": [
       "0.9522096477271853"
      ]
     },
     "execution_count": 16,
     "metadata": {},
     "output_type": "execute_result"
    }
   ],
   "source": [
    "grad_dist.cdf(3.5)"
   ]
  },
  {
   "cell_type": "markdown",
   "id": "28f63dd7-bf83-4aca-bfed-a9475f07faa8",
   "metadata": {},
   "source": [
    "A marketing website has an average click-through rate of 2%. One day they observe 4326 visitors and 97 click-throughs. How likely is it that this many people or more click through?"
   ]
  },
  {
   "cell_type": "code",
   "execution_count": 17,
   "id": "da43d12e-1091-4e3d-b1e3-ac4fe31dfcdb",
   "metadata": {},
   "outputs": [
    {
     "data": {
      "text/plain": [
       "0.13975823631416448"
      ]
     },
     "execution_count": 17,
     "metadata": {},
     "output_type": "execute_result"
    }
   ],
   "source": [
    "#click through or not --> binomial\n",
    "#n_trials = visitors\n",
    "visitors = 4326\n",
    "#succes rate (prop) = .02\n",
    "clicks = .02\n",
    "\n",
    "stats.binom(visitors, clicks).sf(96)"
   ]
  },
  {
   "cell_type": "markdown",
   "id": "22617ccc-8c14-4993-8da9-e8f187581f77",
   "metadata": {},
   "source": [
    "You are working on some statistics homework consisting of 100 questions where all of the answers are a probability rounded to the hundreths place. Looking to save time, you put down random probabilities as the answer to each question. What is the probability that at least one of your first 60 answers is correct?"
   ]
  },
  {
   "cell_type": "code",
   "execution_count": 18,
   "id": "f63174a1-4ad5-46df-8831-ffe604b69e0e",
   "metadata": {},
   "outputs": [
    {
     "data": {
      "text/plain": [
       "0.45284335760923855"
      ]
     },
     "execution_count": 18,
     "metadata": {},
     "output_type": "execute_result"
    }
   ],
   "source": [
    "#correct or not --> binomial\n",
    "#trials --> 60 questions --> 60 trials\n",
    "questions = 60\n",
    "#success rate --> .01\n",
    "guess_prob = .01\n",
    "stats.binom(questions, guess_prob).sf(0)\n"
   ]
  },
  {
   "cell_type": "markdown",
   "id": "492f1290-8bb5-4753-8c56-8141a16cffe1",
   "metadata": {},
   "source": [
    "The codeup staff tends to get upset when the student break area is not cleaned up. Suppose that there's a 3% chance that any one student cleans the break area when they visit it, and, on any given day, about 90% of the 3 active cohorts of 22 students visit the break area. "
   ]
  },
  {
   "cell_type": "markdown",
   "id": "889154a3-115f-4beb-9c2e-bd7e541be6e7",
   "metadata": {},
   "source": [
    "How likely is it that the break area gets cleaned up each day?"
   ]
  },
  {
   "cell_type": "code",
   "execution_count": 19,
   "id": "6d7b617d-83c1-460c-a900-4cbd78988132",
   "metadata": {},
   "outputs": [
    {
     "data": {
      "text/plain": [
       "0.8362274861228872"
      ]
     },
     "execution_count": 19,
     "metadata": {},
     "output_type": "execute_result"
    }
   ],
   "source": [
    "#clean or not clean --> binomial\n",
    "#trials --> .90 * 66 \n",
    "#success rate --> .03\n",
    "stats.binom(59.4, .03).sf(0)"
   ]
  },
  {
   "cell_type": "markdown",
   "id": "60c30b01-a19d-4333-a7b7-dca98d81cf12",
   "metadata": {},
   "source": [
    "How likely is it that it goes two days without getting cleaned up? "
   ]
  },
  {
   "cell_type": "code",
   "execution_count": 20,
   "id": "1ff87f39-4665-4937-a87f-f58dbff9857b",
   "metadata": {},
   "outputs": [
    {
     "data": {
      "text/plain": [
       "0.026821436301628997"
      ]
     },
     "execution_count": 20,
     "metadata": {},
     "output_type": "execute_result"
    }
   ],
   "source": [
    "#clean or not clean --> binomial\n",
    "#trials --> .90 * 66 \n",
    "#success rate --> .03\n",
    "stats.binom(118.8, .03).pmf(0)"
   ]
  },
  {
   "cell_type": "markdown",
   "id": "57f80efb-7fdb-459e-bdd8-47f70a515ee7",
   "metadata": {},
   "source": [
    "All week?"
   ]
  },
  {
   "cell_type": "code",
   "execution_count": 21,
   "id": "653d9f37-d779-4e8d-b905-43f6b65f0626",
   "metadata": {},
   "outputs": [
    {
     "data": {
      "text/plain": [
       "0.0043926140489126235"
      ]
     },
     "execution_count": 21,
     "metadata": {},
     "output_type": "execute_result"
    }
   ],
   "source": [
    "#clean or not clean --> binomial\n",
    "#trials --> .90 * 66 \n",
    "#success rate --> .03\n",
    "stats.binom(178.2, .03).pmf(0)"
   ]
  },
  {
   "cell_type": "markdown",
   "id": "a56695fd-ae65-4f06-a027-f6473e8c36e1",
   "metadata": {},
   "source": [
    "You want to get lunch at La Panaderia, but notice that the line is usually very long at lunchtime. After several weeks of careful observation, you notice that the average number of people in line when your lunch break starts is normally distributed with a mean of 15 and standard deviation of 3. If it takes 2 minutes for each person to order, and 10 minutes from ordering to getting your food, what is the likelihood that you have at least 15 minutes left to eat your food before you have to go back to class? Assume you have one hour for lunch, and ignore travel time to and from La Panaderia."
   ]
  },
  {
   "cell_type": "code",
   "execution_count": 22,
   "id": "c4fa6e35-2c1b-4755-b566-c13d772a9520",
   "metadata": {},
   "outputs": [
    {
     "data": {
      "text/plain": [
       "0.6914624612740131"
      ]
     },
     "execution_count": 22,
     "metadata": {},
     "output_type": "execute_result"
    }
   ],
   "source": [
    "μ = 15 # --> 15 * 2 = 30 minutes --> + (10 + 2 [for your own order]) = 42 --> whats the number that gets us to 45 --> 16.5 \n",
    "σ = 3\n",
    "stats.norm(μ, σ).cdf(16.5)"
   ]
  },
  {
   "cell_type": "markdown",
   "id": "8ac84b3d-6149-46fe-91a8-571efcde1b06",
   "metadata": {},
   "source": [
    "Connect to the employees database and find the average salary of current employees, along with the standard deviation. For the following questions, calculate the answer based on modeling the employees salaries with a normal distribution defined by the calculated mean and standard deviation then compare this answer to the actual values present in the salaries dataset."
   ]
  },
  {
   "cell_type": "code",
   "execution_count": 23,
   "id": "9e8e38cc-d0b5-4363-9f60-636cb9812fc5",
   "metadata": {},
   "outputs": [],
   "source": [
    "from env import host, user, password"
   ]
  },
  {
   "cell_type": "code",
   "execution_count": 24,
   "id": "973f99d5-f501-4c83-8d51-f0407e82cf98",
   "metadata": {},
   "outputs": [],
   "source": [
    "emp_url = f'mysql+pymysql://{user}:{password}@{host}/employees'"
   ]
  },
  {
   "cell_type": "code",
   "execution_count": 28,
   "id": "e3b384cd-1acb-433f-a1ce-9ad0657664a0",
   "metadata": {},
   "outputs": [],
   "source": [
    "emp_sql = \"\"\"\n",
    "SELECT*\n",
    "FROM employees\n",
    "JOIN salaries USING (emp_no)\n",
    "WHERE salaries.to_date > now()\n",
    "\"\"\""
   ]
  },
  {
   "cell_type": "code",
   "execution_count": 29,
   "id": "8d53e0d7-26d9-4433-9b32-f594a20f79f2",
   "metadata": {},
   "outputs": [],
   "source": [
    "emp_df = pd.read_sql(emp_sql, emp_url)"
   ]
  },
  {
   "cell_type": "code",
   "execution_count": 30,
   "id": "2897c916-a32f-4035-88b2-f3fb40e7d900",
   "metadata": {},
   "outputs": [],
   "source": [
    "emp_df = pd.DataFrame(emp_df)"
   ]
  },
  {
   "cell_type": "code",
   "execution_count": 32,
   "id": "3e278b78-03a1-4507-8a09-d93d4c4f3ef2",
   "metadata": {},
   "outputs": [],
   "source": [
    "emp_df_copy = emp_df"
   ]
  },
  {
   "cell_type": "code",
   "execution_count": 34,
   "id": "bae1f352-0ec8-4f78-b5ea-48665793cfae",
   "metadata": {},
   "outputs": [
    {
     "data": {
      "text/html": [
       "<div>\n",
       "<style scoped>\n",
       "    .dataframe tbody tr th:only-of-type {\n",
       "        vertical-align: middle;\n",
       "    }\n",
       "\n",
       "    .dataframe tbody tr th {\n",
       "        vertical-align: top;\n",
       "    }\n",
       "\n",
       "    .dataframe thead th {\n",
       "        text-align: right;\n",
       "    }\n",
       "</style>\n",
       "<table border=\"1\" class=\"dataframe\">\n",
       "  <thead>\n",
       "    <tr style=\"text-align: right;\">\n",
       "      <th></th>\n",
       "      <th>emp_no</th>\n",
       "      <th>birth_date</th>\n",
       "      <th>first_name</th>\n",
       "      <th>last_name</th>\n",
       "      <th>gender</th>\n",
       "      <th>hire_date</th>\n",
       "      <th>salary</th>\n",
       "      <th>from_date</th>\n",
       "      <th>to_date</th>\n",
       "    </tr>\n",
       "  </thead>\n",
       "  <tbody>\n",
       "    <tr>\n",
       "      <th>0</th>\n",
       "      <td>10001</td>\n",
       "      <td>1953-09-02</td>\n",
       "      <td>Georgi</td>\n",
       "      <td>Facello</td>\n",
       "      <td>M</td>\n",
       "      <td>1986-06-26</td>\n",
       "      <td>88958</td>\n",
       "      <td>2002-06-22</td>\n",
       "      <td>9999-01-01</td>\n",
       "    </tr>\n",
       "    <tr>\n",
       "      <th>1</th>\n",
       "      <td>10002</td>\n",
       "      <td>1964-06-02</td>\n",
       "      <td>Bezalel</td>\n",
       "      <td>Simmel</td>\n",
       "      <td>F</td>\n",
       "      <td>1985-11-21</td>\n",
       "      <td>72527</td>\n",
       "      <td>2001-08-02</td>\n",
       "      <td>9999-01-01</td>\n",
       "    </tr>\n",
       "    <tr>\n",
       "      <th>2</th>\n",
       "      <td>10003</td>\n",
       "      <td>1959-12-03</td>\n",
       "      <td>Parto</td>\n",
       "      <td>Bamford</td>\n",
       "      <td>M</td>\n",
       "      <td>1986-08-28</td>\n",
       "      <td>43311</td>\n",
       "      <td>2001-12-01</td>\n",
       "      <td>9999-01-01</td>\n",
       "    </tr>\n",
       "    <tr>\n",
       "      <th>3</th>\n",
       "      <td>10004</td>\n",
       "      <td>1954-05-01</td>\n",
       "      <td>Chirstian</td>\n",
       "      <td>Koblick</td>\n",
       "      <td>M</td>\n",
       "      <td>1986-12-01</td>\n",
       "      <td>74057</td>\n",
       "      <td>2001-11-27</td>\n",
       "      <td>9999-01-01</td>\n",
       "    </tr>\n",
       "    <tr>\n",
       "      <th>4</th>\n",
       "      <td>10005</td>\n",
       "      <td>1955-01-21</td>\n",
       "      <td>Kyoichi</td>\n",
       "      <td>Maliniak</td>\n",
       "      <td>M</td>\n",
       "      <td>1989-09-12</td>\n",
       "      <td>94692</td>\n",
       "      <td>2001-09-09</td>\n",
       "      <td>9999-01-01</td>\n",
       "    </tr>\n",
       "  </tbody>\n",
       "</table>\n",
       "</div>"
      ],
      "text/plain": [
       "   emp_no  birth_date first_name last_name gender   hire_date  salary  \\\n",
       "0   10001  1953-09-02     Georgi   Facello      M  1986-06-26   88958   \n",
       "1   10002  1964-06-02    Bezalel    Simmel      F  1985-11-21   72527   \n",
       "2   10003  1959-12-03      Parto   Bamford      M  1986-08-28   43311   \n",
       "3   10004  1954-05-01  Chirstian   Koblick      M  1986-12-01   74057   \n",
       "4   10005  1955-01-21    Kyoichi  Maliniak      M  1989-09-12   94692   \n",
       "\n",
       "    from_date     to_date  \n",
       "0  2002-06-22  9999-01-01  \n",
       "1  2001-08-02  9999-01-01  \n",
       "2  2001-12-01  9999-01-01  \n",
       "3  2001-11-27  9999-01-01  \n",
       "4  2001-09-09  9999-01-01  "
      ]
     },
     "execution_count": 34,
     "metadata": {},
     "output_type": "execute_result"
    }
   ],
   "source": [
    "emp_df.head()"
   ]
  },
  {
   "cell_type": "code",
   "execution_count": 36,
   "id": "0603f369-d88c-46be-9052-ec415da4f8f1",
   "metadata": {},
   "outputs": [],
   "source": [
    "μ = emp_df['salary'].mean()"
   ]
  },
  {
   "cell_type": "code",
   "execution_count": 44,
   "id": "fa8b2347-49c9-4daf-89ce-fe7d78862024",
   "metadata": {},
   "outputs": [],
   "source": [
    "σ = emp_df['salary'].std()"
   ]
  },
  {
   "cell_type": "code",
   "execution_count": null,
   "id": "dc110ec9-1790-46a1-919d-f9a2a7d5109a",
   "metadata": {},
   "outputs": [],
   "source": []
  },
  {
   "cell_type": "code",
   "execution_count": 45,
   "id": "f055c48a-99f0-4806-9053-c4fd5ad5ac39",
   "metadata": {},
   "outputs": [],
   "source": [
    "salary_dist = stats.norm(μ , σ)"
   ]
  },
  {
   "cell_type": "code",
   "execution_count": 51,
   "id": "b81d60df-74dc-4f61-905a-107078c7eb09",
   "metadata": {},
   "outputs": [
    {
     "data": {
      "text/plain": [
       "[<matplotlib.lines.Line2D at 0x2cc2e77f0>]"
      ]
     },
     "execution_count": 51,
     "metadata": {},
     "output_type": "execute_result"
    },
    {
     "data": {
      "image/png": "[encoded data removed]",
      "text/plain": [
       "<Figure size 432x288 with 1 Axes>"
      ]
     },
     "metadata": {
      "needs_background": "light"
     },
     "output_type": "display_data"
    }
   ],
   "source": [
    "x = np.arange(0, emp_df['salary'].max() + 1)\n",
    "y = salary_dist.pdf(x)\n",
    "plt.plot(x,y)"
   ]
  },
  {
   "cell_type": "markdown",
   "id": "dd87c206-a86d-4b97-9329-f7a722100b0e",
   "metadata": {},
   "source": [
    "What percent of employees earn less than 60,000?"
   ]
  },
  {
   "cell_type": "code",
   "execution_count": 52,
   "id": "50bb6b4a-4018-4766-8370-69068152bf2a",
   "metadata": {},
   "outputs": [
    {
     "data": {
      "text/plain": [
       "0.2438393099761686"
      ]
     },
     "execution_count": 52,
     "metadata": {},
     "output_type": "execute_result"
    }
   ],
   "source": [
    "#with modeling\n",
    "salary_dist.cdf(59999)"
   ]
  },
  {
   "cell_type": "markdown",
   "id": "0df21810-77f9-4556-8122-3e7ab23d2e4d",
   "metadata": {},
   "source": [
    "What percent of employees earn more than 95,000?"
   ]
  },
  {
   "cell_type": "code",
   "execution_count": 53,
   "id": "5d082a62-aa57-47fc-88a0-fc6acaf03490",
   "metadata": {},
   "outputs": [
    {
     "data": {
      "text/plain": [
       "0.09208819199804053"
      ]
     },
     "execution_count": 53,
     "metadata": {},
     "output_type": "execute_result"
    }
   ],
   "source": [
    "#with modeling\n",
    "salary_dist.sf(95_000)"
   ]
  },
  {
   "cell_type": "markdown",
   "id": "e39abfcc-6182-4822-b553-65e16088b14f",
   "metadata": {},
   "source": [
    "What percent of employees earn between 65,000 and 80,000?"
   ]
  },
  {
   "cell_type": "code",
   "execution_count": 56,
   "id": "39550c90-76e1-490e-bbbb-0a36c8d815c0",
   "metadata": {},
   "outputs": [
    {
     "data": {
      "text/plain": [
       "0.3350605685446666"
      ]
     },
     "execution_count": 56,
     "metadata": {},
     "output_type": "execute_result"
    }
   ],
   "source": [
    "#with modeling\n",
    "zone = salary_dist.cdf([65_000, 80_000])\n",
    "zone = zone[1] - zone[0]\n",
    "zone"
   ]
  },
  {
   "cell_type": "markdown",
   "id": "ba0bfe76-492b-4996-9fb9-e7a7be2f9a75",
   "metadata": {},
   "source": [
    "What do the top 5% of employees make?"
   ]
  },
  {
   "cell_type": "code",
   "execution_count": 58,
   "id": "63e7d854-b1ae-4751-874e-e9acb503717d",
   "metadata": {},
   "outputs": [
    {
     "data": {
      "text/plain": [
       "100484.64454102777"
      ]
     },
     "execution_count": 58,
     "metadata": {},
     "output_type": "execute_result"
    }
   ],
   "source": [
    "#with modeling\n",
    "salary_dist.isf(.05)"
   ]
  }
 ],
 "metadata": {
  "kernelspec": {
   "display_name": "Python 3 (ipykernel)",
   "language": "python",
   "name": "python3"
  },
  "language_info": {
   "codemirror_mode": {
    "name": "ipython",
    "version": 3
   },
   "file_extension": ".py",
   "mimetype": "text/x-python",
   "name": "python",
   "nbconvert_exporter": "python",
   "pygments_lexer": "ipython3",
   "version": "3.9.12"
  }
 },
 "nbformat": 4,
 "nbformat_minor": 5
}
