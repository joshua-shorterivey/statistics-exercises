{
 "cells": [
  {
   "cell_type": "markdown",
   "id": "8921c365-6a91-4502-aaca-f184a44b14c2",
   "metadata": {},
   "source": [
    "# Exercises\n",
    "\n",
    "#### hint \n",
    " - you can feed more than one value into a cdf or a ppf\n",
    " - use a list formate [low_val, high_val]\n",
    " - ex: some_distribution.cdf([4,7])\n",
    "\n",
    "Do your work for this exercise in either a python script named probability_distributions.py or a jupyter notebook named probability_distributions.ipynb.\n",
    "\n",
    "For the following problems, use python to simulate the problem and calculate an experimental probability, then compare that to the theoretical probability."
   ]
  },
  {
   "cell_type": "code",
   "execution_count": 65,
   "id": "ea52fb05-8796-482c-ac0c-2530c18a5c76",
   "metadata": {},
   "outputs": [],
   "source": [
    "import matplotlib.pyplot as plt\n",
    "import numpy as np\n",
    "import pandas as pd\n",
    "from scipy import stats"
   ]
  },
  {
   "cell_type": "markdown",
   "id": "6bfd009b-ec9e-40d6-b031-cc06347a0ddc",
   "metadata": {},
   "source": [
    "### 1. A bank found that the average number of cars waiting during the noon hour at a drive-up window follows a Poisson distribution with a mean of 2 cars. Make a chart of this distribution and answer these questions concerning the probability of cars waiting at the drive-up window."
   ]
  },
  {
   "cell_type": "code",
   "execution_count": 66,
   "id": "3951b210-d89b-4429-a815-ac461523e427",
   "metadata": {},
   "outputs": [
    {
     "data": {
      "text/plain": [
       "<AxesSubplot:>"
      ]
     },
     "execution_count": 66,
     "metadata": {},
     "output_type": "execute_result"
    },
    {
     "data": {
      "image/png": "[encoded data removed]",
      "text/plain": [
       "<Figure size 432x288 with 1 Axes>"
      ]
     },
     "metadata": {
      "needs_background": "light"
     },
     "output_type": "display_data"
    }
   ],
   "source": [
    "#Experimental\n",
    "poisson_exp = pd.Series(stats.poisson(2).rvs(100_000))\n",
    "poisson_exp.value_counts().sort_index().plot(kind='bar')\n",
    "#plt.bar(x=range((poisson_exp.max() + 1)), height=)"
   ]
  },
  {
   "cell_type": "code",
   "execution_count": 67,
   "id": "28700ab8-a23b-4fe5-85b7-9f7552119736",
   "metadata": {},
   "outputs": [
    {
     "data": {
      "text/plain": [
       "<BarContainer object of 10 artists>"
      ]
     },
     "execution_count": 67,
     "metadata": {},
     "output_type": "execute_result"
    },
    {
     "data": {
      "image/png": "[encoded data removed]",
      "text/plain": [
       "<Figure size 432x288 with 1 Axes>"
      ]
     },
     "metadata": {
      "needs_background": "light"
     },
     "output_type": "display_data"
    }
   ],
   "source": [
    "#Theoretical\n",
    "x = np.arange(0, 10)\n",
    "y = stats.poisson(2).pmf(x)\n",
    "plt.bar(x,y)"
   ]
  },
  {
   "cell_type": "markdown",
   "id": "9419a5ac-59bc-49c0-98ab-b90763c2891f",
   "metadata": {},
   "source": [
    "### 1a. What is the probability that no cars drive up in the noon hour?"
   ]
  },
  {
   "cell_type": "code",
   "execution_count": 68,
   "id": "b827606e-3610-43a7-a610-b01dd1f76867",
   "metadata": {},
   "outputs": [
    {
     "data": {
      "text/plain": [
       "0.1353352832366127"
      ]
     },
     "execution_count": 68,
     "metadata": {},
     "output_type": "execute_result"
    }
   ],
   "source": [
    "#theoretical\n",
    "stats.poisson(2).pmf(0)"
   ]
  },
  {
   "cell_type": "code",
   "execution_count": 69,
   "id": "ad521200-d455-4741-afd0-41c25bedc85e",
   "metadata": {},
   "outputs": [
    {
     "data": {
      "text/plain": [
       "0.13688"
      ]
     },
     "execution_count": 69,
     "metadata": {},
     "output_type": "execute_result"
    }
   ],
   "source": [
    "#experimental --> use normalize in order to create the series with relative frequencies (percentage) of each outcome. \n",
    "poisson_exp.value_counts(normalize=True).loc[0]"
   ]
  },
  {
   "cell_type": "markdown",
   "id": "ec0fbabf-e1f7-459a-9840-c22d0cbf73fb",
   "metadata": {},
   "source": [
    "### 1b. What is the probability that 3 or more cars come through the drive through?"
   ]
  },
  {
   "cell_type": "code",
   "execution_count": 70,
   "id": "1c609742-df71-491f-a576-964bbb6b7958",
   "metadata": {},
   "outputs": [
    {
     "data": {
      "text/plain": [
       "0.32332358381693654"
      ]
     },
     "execution_count": 70,
     "metadata": {},
     "output_type": "execute_result"
    }
   ],
   "source": [
    "#theoretical --> 3 or more indicates survival function\n",
    "stats.poisson(2).sf(2)"
   ]
  },
  {
   "cell_type": "code",
   "execution_count": 71,
   "id": "eb3bec18-bde2-437d-bd6f-4424eb9ca5d1",
   "metadata": {},
   "outputs": [
    {
     "data": {
      "text/plain": [
       "0.32454000000000005"
      ]
     },
     "execution_count": 71,
     "metadata": {},
     "output_type": "execute_result"
    }
   ],
   "source": [
    "#experimental\n",
    "poisson_exp.value_counts(normalize=True).sort_index().iloc[3:].sum()"
   ]
  },
  {
   "cell_type": "markdown",
   "id": "4757b599-44c0-49bd-96e9-6040adcdb8fd",
   "metadata": {},
   "source": [
    "### 1c. How likely is it that the drive through gets at least 1 car?"
   ]
  },
  {
   "cell_type": "code",
   "execution_count": 72,
   "id": "d1d69c2c-73b8-4a74-8f24-839847e8d944",
   "metadata": {},
   "outputs": [
    {
     "data": {
      "text/plain": [
       "0.8646647167633873"
      ]
     },
     "execution_count": 72,
     "metadata": {},
     "output_type": "execute_result"
    }
   ],
   "source": [
    "#theoretical\n",
    "stats.poisson(2).sf(0)"
   ]
  },
  {
   "cell_type": "code",
   "execution_count": 73,
   "id": "587c62f2-fcc8-44e5-9d27-43af1a353bcd",
   "metadata": {},
   "outputs": [
    {
     "data": {
      "text/plain": [
       "0.8631200000000001"
      ]
     },
     "execution_count": 73,
     "metadata": {},
     "output_type": "execute_result"
    }
   ],
   "source": [
    "#experimental \n",
    "poisson_exp.value_counts(normalize=True).sort_index().iloc[1:].sum()"
   ]
  },
  {
   "cell_type": "markdown",
   "id": "11b10cb1-5127-43c3-9535-856e08f94942",
   "metadata": {},
   "source": [
    "## Question 2. Grades of State University graduates are normally distributed with a mean of 3.0 and a standard deviation of 0.3. \n",
    "### 2a. Calculate the following:"
   ]
  },
  {
   "cell_type": "code",
   "execution_count": 74,
   "id": "ca026dff-9663-4684-810c-eac8d9a9c732",
   "metadata": {},
   "outputs": [],
   "source": [
    "μ = 3.0\n",
    "σ = .3\n",
    "grad_dist = stats.norm(μ, σ)"
   ]
  },
  {
   "cell_type": "code",
   "execution_count": 75,
   "id": "343e3357-61c8-4942-b99f-ae5a0a26d4f1",
   "metadata": {},
   "outputs": [],
   "source": [
    "grad_list = grad_dist.rvs(100_000)"
   ]
  },
  {
   "cell_type": "code",
   "execution_count": 76,
   "id": "fee2f738-ceed-45d1-af95-a0e46ae0aad2",
   "metadata": {},
   "outputs": [
    {
     "data": {
      "text/plain": [
       "[<matplotlib.lines.Line2D at 0x13e2ca400>]"
      ]
     },
     "execution_count": 76,
     "metadata": {},
     "output_type": "execute_result"
    },
    {
     "data": {
      "image/png": "[encoded data removed]",
      "text/plain": [
       "<Figure size 432x288 with 1 Axes>"
      ]
     },
     "metadata": {
      "needs_background": "light"
     },
     "output_type": "display_data"
    }
   ],
   "source": [
    "#theoretical\n",
    "x = np.arange(0, 5, .001)\n",
    "plt.plot(x, stats.norm.pdf(x, μ, σ))"
   ]
  },
  {
   "cell_type": "markdown",
   "id": "27ab16cb-60a4-4cf6-bc5c-cdd8d672a808",
   "metadata": {},
   "source": [
    "### 2b. What grade point average is required to be in the top 5% of the graduating class?"
   ]
  },
  {
   "cell_type": "code",
   "execution_count": 77,
   "id": "a9e6c830-017f-4095-900f-82dd9ac4cc1a",
   "metadata": {},
   "outputs": [
    {
     "data": {
      "text/plain": [
       "3.4929747876792"
      ]
     },
     "execution_count": 77,
     "metadata": {},
     "output_type": "execute_result"
    }
   ],
   "source": [
    "#experimental\n",
    "np.quantile(grad_list, q=.95)"
   ]
  },
  {
   "cell_type": "code",
   "execution_count": 78,
   "id": "ec6ccb4c-1576-4bf4-add2-ddd640aac4a9",
   "metadata": {},
   "outputs": [
    {
     "data": {
      "text/plain": [
       "3.4934560880854417"
      ]
     },
     "execution_count": 78,
     "metadata": {},
     "output_type": "execute_result"
    }
   ],
   "source": [
    "#theoretical\n",
    "grad_dist.isf(.05)"
   ]
  },
  {
   "cell_type": "markdown",
   "id": "27aaf531-e0ee-48d7-b846-16698c843244",
   "metadata": {},
   "source": [
    "### 2c. What GPA constitutes the bottom 15% of the class?"
   ]
  },
  {
   "cell_type": "code",
   "execution_count": 79,
   "id": "cbdcbe19-5838-4125-957d-8462cbe34dbb",
   "metadata": {},
   "outputs": [
    {
     "data": {
      "text/plain": [
       "2.689069983151863"
      ]
     },
     "execution_count": 79,
     "metadata": {},
     "output_type": "execute_result"
    }
   ],
   "source": [
    "#theoretical\n",
    "grad_dist.ppf(.15)"
   ]
  },
  {
   "cell_type": "code",
   "execution_count": 80,
   "id": "04c59885-05a6-4205-abb7-92508a77b5b8",
   "metadata": {},
   "outputs": [
    {
     "data": {
      "text/plain": [
       "2.6895223807930746"
      ]
     },
     "execution_count": 80,
     "metadata": {},
     "output_type": "execute_result"
    }
   ],
   "source": [
    "#experimental \n",
    "np.quantile(grad_list, q=.15)"
   ]
  },
  {
   "cell_type": "markdown",
   "id": "4671d14a-3509-440f-aa1d-beb3a43e3e59",
   "metadata": {},
   "source": [
    "### 2d. An eccentric alumnus left scholarship money for students in the third decile from the bottom of their class. Determine the range of the third decile. Would a student with a 2.8 grade point average qualify for this scholarship?"
   ]
  },
  {
   "cell_type": "code",
   "execution_count": 81,
   "id": "5d63e14e-ca20-4a1a-87a4-b7c45d0db089",
   "metadata": {},
   "outputs": [
    {
     "data": {
      "text/plain": [
       "array([2.74794531, 2.84483801])"
      ]
     },
     "execution_count": 81,
     "metadata": {},
     "output_type": "execute_result"
    }
   ],
   "source": [
    "#experimental\n",
    "np.quantile(grad_list, q=(.20, .30))"
   ]
  },
  {
   "cell_type": "code",
   "execution_count": 82,
   "id": "f84d6b9f-427f-4215-b5b7-7c47b7badece",
   "metadata": {},
   "outputs": [
    {
     "data": {
      "text/plain": [
       "array([2.74751363, 2.84267985])"
      ]
     },
     "execution_count": 82,
     "metadata": {},
     "output_type": "execute_result"
    }
   ],
   "source": [
    "#theoretical\n",
    "grad_dist.ppf([.20, .30])"
   ]
  },
  {
   "cell_type": "markdown",
   "id": "312aaa63-8c23-459c-af21-1d51a939ca11",
   "metadata": {},
   "source": [
    "### 2e. If I have a GPA of 3.5, what percentile am I in?"
   ]
  },
  {
   "cell_type": "code",
   "execution_count": 83,
   "id": "ec6fd26c-696b-43b9-902a-dbd07131fb26",
   "metadata": {
    "tags": []
   },
   "outputs": [
    {
     "data": {
      "text/plain": [
       "95.259"
      ]
     },
     "execution_count": 83,
     "metadata": {},
     "output_type": "execute_result"
    }
   ],
   "source": [
    "#experimental\n",
    "stats.percentileofscore(grad_list, 3.5)"
   ]
  },
  {
   "cell_type": "code",
   "execution_count": 84,
   "id": "f1609148-5970-4ade-812b-130b284e4579",
   "metadata": {},
   "outputs": [
    {
     "data": {
      "text/plain": [
       "0.9522096477271853"
      ]
     },
     "execution_count": 84,
     "metadata": {},
     "output_type": "execute_result"
    }
   ],
   "source": [
    "#theoretical\n",
    "grad_dist.cdf(3.5)"
   ]
  },
  {
   "cell_type": "markdown",
   "id": "28f63dd7-bf83-4aca-bfed-a9475f07faa8",
   "metadata": {},
   "source": [
    "## 3. A marketing website has an average click-through rate of 2%. One day they observe 4326 visitors and 97 click-throughs. How likely is it that this many people or more click through?"
   ]
  },
  {
   "cell_type": "code",
   "execution_count": 85,
   "id": "07168a5d-e16f-4f42-aa60-b0e187c8f0a8",
   "metadata": {},
   "outputs": [],
   "source": [
    "#click through or not --> binomial\n",
    "#n_trials = visitors\n",
    "visitors = 4326\n",
    "#succes rate (prop) = .02\n",
    "clicks = .02"
   ]
  },
  {
   "cell_type": "code",
   "execution_count": 116,
   "id": "b78a9eae-88ab-4fb0-bbce-54a9cb8465f4",
   "metadata": {},
   "outputs": [
    {
     "data": {
      "text/plain": [
       "0.13831"
      ]
     },
     "execution_count": 116,
     "metadata": {},
     "output_type": "execute_result"
    }
   ],
   "source": [
    "#experimental\n",
    "click_exp = stats.binom(visitors, clicks).rvs(100_000)\n",
    "(len(click_exp[click_exp > 96]))/len(click_exp)"
   ]
  },
  {
   "cell_type": "code",
   "execution_count": 85,
   "id": "71ebfd8c-535d-419f-ac63-d56d7e322296",
   "metadata": {},
   "outputs": [
    {
     "data": {
      "text/plain": [
       "0.13975823631416448"
      ]
     },
     "execution_count": 85,
     "metadata": {},
     "output_type": "execute_result"
    }
   ],
   "source": [
    "#theoretical\n",
    "stats.binom(visitors, clicks).sf(96)"
   ]
  },
  {
   "cell_type": "markdown",
   "id": "22617ccc-8c14-4993-8da9-e8f187581f77",
   "metadata": {},
   "source": [
    "### 4. You are working on some statistics homework consisting of 100 questions where all of the answers are a probability rounded to the hundreths place. Looking to save time, you put down random probabilities as the answer to each question. What is the probability that at least one of your first 60 answers is correct?"
   ]
  },
  {
   "cell_type": "code",
   "execution_count": 88,
   "id": "46ea09c8-0648-44f1-a9d5-f87997984132",
   "metadata": {},
   "outputs": [],
   "source": [
    "#correct or not --> binomial\n",
    "#trials --> 60 questions --> 60 trials\n",
    "questions = 60\n",
    "#success rate --> .01\n",
    "guess_prob = .01"
   ]
  },
  {
   "cell_type": "code",
   "execution_count": 89,
   "id": "c2bb0000-7dca-477b-9b55-a6ad43b75217",
   "metadata": {},
   "outputs": [
    {
     "data": {
      "text/plain": [
       "0.45272"
      ]
     },
     "execution_count": 89,
     "metadata": {},
     "output_type": "execute_result"
    }
   ],
   "source": [
    "#experimental\n",
    "guess_exp = stats.binom(questions, guess_prob).rvs(100_000)\n",
    "len(guess_exp[guess_exp > 0]) / len(guess_exp)"
   ]
  },
  {
   "cell_type": "code",
   "execution_count": 90,
   "id": "d106efe0-36b6-47c8-8c77-c3c63998bb22",
   "metadata": {},
   "outputs": [
    {
     "data": {
      "text/plain": [
       "0.45284335760923855"
      ]
     },
     "execution_count": 90,
     "metadata": {},
     "output_type": "execute_result"
    }
   ],
   "source": [
    "#theoretical\n",
    "stats.binom(questions, guess_prob).sf(0)"
   ]
  },
  {
   "cell_type": "markdown",
   "id": "492f1290-8bb5-4753-8c56-8141a16cffe1",
   "metadata": {},
   "source": [
    "### 5. The codeup staff tends to get upset when the student break area is not cleaned up. Suppose that there's a 3% chance that any one student cleans the break area when they visit it, and, on any given day, about 90% of the 3 active cohorts of 22 students visit the break area. "
   ]
  },
  {
   "cell_type": "markdown",
   "id": "889154a3-115f-4beb-9c2e-bd7e541be6e7",
   "metadata": {},
   "source": [
    "### 5a. How likely is it that the break area gets cleaned up each day?"
   ]
  },
  {
   "cell_type": "code",
   "execution_count": 91,
   "id": "6d7b617d-83c1-460c-a900-4cbd78988132",
   "metadata": {},
   "outputs": [],
   "source": [
    "#clean or not clean --> binomial\n",
    "#students using break area --> trials --> .90 * 66 --> 59.4 --> round down to 59\n",
    "#cleaning up --> success rate --> .03\n",
    "cleaning = stats.binom(59, .03)"
   ]
  },
  {
   "cell_type": "code",
   "execution_count": 92,
   "id": "eb63988d-79dc-4009-9a50-69f9397b9714",
   "metadata": {},
   "outputs": [
    {
     "data": {
      "text/plain": [
       "0.83503"
      ]
     },
     "execution_count": 92,
     "metadata": {},
     "output_type": "execute_result"
    }
   ],
   "source": [
    "#experimental\n",
    "cleaning_exp = cleaning.rvs(100_000)\n",
    "len(cleaning_exp[cleaning_exp >0]) / len(cleaning_exp)\n",
    "(cleaning_exp > 0).mean()"
   ]
  },
  {
   "cell_type": "code",
   "execution_count": 93,
   "id": "b036f588-60cb-4612-9b78-d2caf52681fb",
   "metadata": {},
   "outputs": [
    {
     "data": {
      "text/plain": [
       "0.8342199288437352"
      ]
     },
     "execution_count": 93,
     "metadata": {},
     "output_type": "execute_result"
    }
   ],
   "source": [
    "#theoretical\n",
    "cleaning.sf(0)"
   ]
  },
  {
   "cell_type": "markdown",
   "id": "60c30b01-a19d-4333-a7b7-dca98d81cf12",
   "metadata": {},
   "source": [
    "### 5b. How likely is it that it goes two days without getting cleaned up? "
   ]
  },
  {
   "cell_type": "code",
   "execution_count": 94,
   "id": "1ff87f39-4665-4937-a87f-f58dbff9857b",
   "metadata": {},
   "outputs": [],
   "source": [
    "#clean or not clean --> binomial\n",
    "#trials --> .90 * 66 \n",
    "#success rate --> .03\n"
   ]
  },
  {
   "cell_type": "code",
   "execution_count": 95,
   "id": "a5341571-e5d8-40bf-9bae-026ca0ae016e",
   "metadata": {},
   "outputs": [
    {
     "data": {
      "text/plain": [
       "0.05445"
      ]
     },
     "execution_count": 95,
     "metadata": {},
     "output_type": "execute_result"
    }
   ],
   "source": [
    "#experimental\n",
    "two_day_exp = stats.binom(118, .03).rvs((1_000_000, 2))\n",
    "\n",
    "days_no_clean = (two_day_exp == 0).sum(axis=1)\n",
    "\n",
    "(days_no_clean > 0).mean()"
   ]
  },
  {
   "cell_type": "code",
   "execution_count": 96,
   "id": "65f80ef8-4f34-493d-9ad7-c1a7fd9d0ae1",
   "metadata": {},
   "outputs": [
    {
     "data": {
      "text/plain": [
       "0.027483031992576134"
      ]
     },
     "execution_count": 96,
     "metadata": {},
     "output_type": "execute_result"
    }
   ],
   "source": [
    "#theoretical\n",
    "stats.binom(118, .03).pmf(0)"
   ]
  },
  {
   "cell_type": "markdown",
   "id": "57f80efb-7fdb-459e-bdd8-47f70a515ee7",
   "metadata": {},
   "source": [
    "### 5c. All week?"
   ]
  },
  {
   "cell_type": "code",
   "execution_count": 97,
   "id": "db40e079-0fb2-4402-a7ee-57e4d72ab640",
   "metadata": {
    "tags": []
   },
   "outputs": [],
   "source": [
    "#clean or not clean --> binomial\n",
    "#trials --> .90 * (66 * 5) \n",
    "#success rate --> .03"
   ]
  },
  {
   "cell_type": "code",
   "execution_count": 98,
   "id": "5258edf4-4952-4e7f-ab42-82c88902e05f",
   "metadata": {
    "tags": []
   },
   "outputs": [
    {
     "data": {
      "text/plain": [
       "0.000261"
      ]
     },
     "execution_count": 98,
     "metadata": {},
     "output_type": "execute_result"
    }
   ],
   "source": [
    "#experimental\n",
    "five_days = stats.binom(297, .03).rvs((1_000_000, 2))\n",
    "\n",
    "five_days_no_clean = (five_days == 0).sum(axis=1)\n",
    "\n",
    "(five_days_no_clean > 0).mean()"
   ]
  },
  {
   "cell_type": "code",
   "execution_count": 99,
   "id": "eb44cac4-d45b-4931-8ff3-8496b2e0148e",
   "metadata": {
    "tags": []
   },
   "outputs": [
    {
     "data": {
      "text/plain": [
       "0.00011781621791055051"
      ]
     },
     "execution_count": 99,
     "metadata": {},
     "output_type": "execute_result"
    }
   ],
   "source": [
    "#theoretical\n",
    "stats.binom(297, .03).pmf(0)"
   ]
  },
  {
   "cell_type": "markdown",
   "id": "a56695fd-ae65-4f06-a027-f6473e8c36e1",
   "metadata": {},
   "source": [
    "### 6. You want to get lunch at La Panaderia, but notice that the line is usually very long at lunchtime. After several weeks of careful observation, you notice that the average number of people in line when your lunch break starts is normally distributed with a mean of 15 and standard deviation of 3. If it takes 2 minutes for each person to order, and 10 minutes from ordering to getting your food, what is the likelihood that you have at least 15 minutes left to eat your food before you have to go back to class? Assume you have one hour for lunch, and ignore travel time to and from La Panaderia."
   ]
  },
  {
   "cell_type": "code",
   "execution_count": 100,
   "id": "69e696a1-2424-43b8-95a4-62262cd4b700",
   "metadata": {},
   "outputs": [],
   "source": [
    "μ = 15 # --> 15 * 2 = 30 minutes --> + (10 + 2 [for your own order]) = 42 --> whats the number that gets us to 45 --> 16.5 \n",
    "σ = 3"
   ]
  },
  {
   "cell_type": "code",
   "execution_count": 101,
   "id": "0d5f695e-de39-4b93-a53d-fec841f72384",
   "metadata": {},
   "outputs": [
    {
     "data": {
      "text/plain": [
       "0.69344"
      ]
     },
     "execution_count": 101,
     "metadata": {},
     "output_type": "execute_result"
    }
   ],
   "source": [
    "#experimental\n",
    "lunch_exp = stats.norm(μ, σ).rvs(100_000)\n",
    "\n",
    "(lunch_exp < 16.5).mean()"
   ]
  },
  {
   "cell_type": "code",
   "execution_count": 102,
   "id": "484f9a45-98ce-46b0-b6b2-b53d406bf8d5",
   "metadata": {},
   "outputs": [
    {
     "data": {
      "text/plain": [
       "0.6914624612740131"
      ]
     },
     "execution_count": 102,
     "metadata": {},
     "output_type": "execute_result"
    }
   ],
   "source": [
    "#theoretical\n",
    "stats.norm(μ, σ).cdf(16.5)"
   ]
  },
  {
   "cell_type": "markdown",
   "id": "8ac84b3d-6149-46fe-91a8-571efcde1b06",
   "metadata": {},
   "source": [
    "### 7. Connect to the employees database and find the average salary of current employees, along with the standard deviation. For the following questions, calculate the answer based on modeling the employees salaries with a normal distribution defined by the calculated mean and standard deviation then compare this answer to the actual values present in the salaries dataset."
   ]
  },
  {
   "cell_type": "code",
   "execution_count": 103,
   "id": "9e8e38cc-d0b5-4363-9f60-636cb9812fc5",
   "metadata": {},
   "outputs": [],
   "source": [
    "from env import host, user, password"
   ]
  },
  {
   "cell_type": "code",
   "execution_count": 104,
   "id": "973f99d5-f501-4c83-8d51-f0407e82cf98",
   "metadata": {},
   "outputs": [],
   "source": [
    "emp_url = f'mysql+pymysql://{user}:{password}@{host}/employees'"
   ]
  },
  {
   "cell_type": "code",
   "execution_count": 105,
   "id": "e3b384cd-1acb-433f-a1ce-9ad0657664a0",
   "metadata": {},
   "outputs": [],
   "source": [
    "emp_sql = \"\"\"\n",
    "SELECT*\n",
    "FROM employees\n",
    "JOIN salaries USING (emp_no)\n",
    "WHERE salaries.to_date > now()\n",
    "\"\"\""
   ]
  },
  {
   "cell_type": "code",
   "execution_count": 106,
   "id": "e9870704-0cdd-4657-aa7c-06079138405f",
   "metadata": {},
   "outputs": [],
   "source": [
    "emp_df = pd.read_sql(emp_sql, emp_url)\n",
    "\n",
    "emp_df = pd.DataFrame(emp_df)\n",
    "\n",
    "emp_df_copy = emp_df\n",
    "\n",
    "μ = emp_df['salary'].mean()\n",
    "\n",
    "σ = emp_df['salary'].std()"
   ]
  },
  {
   "cell_type": "code",
   "execution_count": 107,
   "id": "f1e53d55-fcdb-4137-986b-3bf4afe8ed88",
   "metadata": {},
   "outputs": [
    {
     "data": {
      "text/plain": [
       "[<matplotlib.lines.Line2D at 0x169757c70>]"
      ]
     },
     "execution_count": 107,
     "metadata": {},
     "output_type": "execute_result"
    },
    {
     "data": {
      "image/png": "[encoded data removed]",
      "text/plain": [
       "<Figure size 432x288 with 1 Axes>"
      ]
     },
     "metadata": {
      "needs_background": "light"
     },
     "output_type": "display_data"
    }
   ],
   "source": [
    "salary_dist = stats.norm(μ , σ)\n",
    "x = np.arange(0, emp_df['salary'].max() + 1)\n",
    "y = salary_dist.pdf(x)\n",
    "plt.plot(x,y)"
   ]
  },
  {
   "cell_type": "markdown",
   "id": "dd87c206-a86d-4b97-9329-f7a722100b0e",
   "metadata": {},
   "source": [
    "### 7a. What percent of employees earn less than 60,000?"
   ]
  },
  {
   "cell_type": "code",
   "execution_count": 108,
   "id": "50bb6b4a-4018-4766-8370-69068152bf2a",
   "metadata": {},
   "outputs": [
    {
     "data": {
      "text/plain": [
       "0.2438393099761686"
      ]
     },
     "execution_count": 108,
     "metadata": {},
     "output_type": "execute_result"
    }
   ],
   "source": [
    "#with modeling\n",
    "salary_dist.cdf(59_999)"
   ]
  },
  {
   "cell_type": "code",
   "execution_count": 109,
   "id": "e5f75fbb-7178-4600-a1ad-9cbccb91180c",
   "metadata": {
    "tags": []
   },
   "outputs": [
    {
     "data": {
      "text/plain": [
       "0.2705727041028802"
      ]
     },
     "execution_count": 109,
     "metadata": {},
     "output_type": "execute_result"
    }
   ],
   "source": [
    "#with analysis\n",
    "salaries = emp_df['salary']\n",
    "\n",
    "(salaries < 60_000).mean()"
   ]
  },
  {
   "cell_type": "markdown",
   "id": "0df21810-77f9-4556-8122-3e7ab23d2e4d",
   "metadata": {},
   "source": [
    "### 7b. What percent of employees earn more than 95,000?"
   ]
  },
  {
   "cell_type": "code",
   "execution_count": 110,
   "id": "5d082a62-aa57-47fc-88a0-fc6acaf03490",
   "metadata": {},
   "outputs": [
    {
     "data": {
      "text/plain": [
       "0.09208819199804053"
      ]
     },
     "execution_count": 110,
     "metadata": {},
     "output_type": "execute_result"
    }
   ],
   "source": [
    "#with modeling\n",
    "salary_dist.sf(95_000)"
   ]
  },
  {
   "cell_type": "code",
   "execution_count": 111,
   "id": "a1c8a07c-daa9-4b60-b8db-122f6586e892",
   "metadata": {},
   "outputs": [
    {
     "data": {
      "text/plain": [
       "0.8913686262097916"
      ]
     },
     "execution_count": 111,
     "metadata": {},
     "output_type": "execute_result"
    }
   ],
   "source": [
    "#with analysis\n",
    "(salaries < 95_000).mean()"
   ]
  },
  {
   "cell_type": "markdown",
   "id": "e39abfcc-6182-4822-b553-65e16088b14f",
   "metadata": {},
   "source": [
    "### 7c. What percent of employees earn between 65,000 and 80,000?"
   ]
  },
  {
   "cell_type": "code",
   "execution_count": 112,
   "id": "39550c90-76e1-490e-bbbb-0a36c8d815c0",
   "metadata": {},
   "outputs": [
    {
     "data": {
      "text/plain": [
       "0.3350605685446666"
      ]
     },
     "execution_count": 112,
     "metadata": {},
     "output_type": "execute_result"
    }
   ],
   "source": [
    "#with modeling\n",
    "zone = salary_dist.cdf([65_000, 80_000])\n",
    "zone = zone[1] - zone[0]\n",
    "zone"
   ]
  },
  {
   "cell_type": "code",
   "execution_count": 113,
   "id": "9536ccae-a3fd-4466-a349-dfaa9bc47c68",
   "metadata": {},
   "outputs": [
    {
     "data": {
      "text/plain": [
       "0.32515700221552196"
      ]
     },
     "execution_count": 113,
     "metadata": {},
     "output_type": "execute_result"
    }
   ],
   "source": [
    "#with analysis\n",
    "(salaries.between(65_000, 80_000)).mean()"
   ]
  },
  {
   "cell_type": "markdown",
   "id": "ba0bfe76-492b-4996-9fb9-e7a7be2f9a75",
   "metadata": {},
   "source": [
    "### 7d. What do the top 5% of employees make?"
   ]
  },
  {
   "cell_type": "code",
   "execution_count": 114,
   "id": "63e7d854-b1ae-4751-874e-e9acb503717d",
   "metadata": {},
   "outputs": [
    {
     "data": {
      "text/plain": [
       "100484.64454102777"
      ]
     },
     "execution_count": 114,
     "metadata": {},
     "output_type": "execute_result"
    }
   ],
   "source": [
    "#with modeling\n",
    "salary_dist.isf(.05)"
   ]
  },
  {
   "cell_type": "code",
   "execution_count": 115,
   "id": "ea0a30c7-6917-45ff-a88a-04a5a9574ddf",
   "metadata": {
    "tags": []
   },
   "outputs": [
    {
     "data": {
      "text/plain": [
       "104225.84999999998"
      ]
     },
     "execution_count": 115,
     "metadata": {},
     "output_type": "execute_result"
    }
   ],
   "source": [
    "#with analysis\n",
    "salaries.quantile(q=.95)"
   ]
  }
 ],
 "metadata": {
  "kernelspec": {
   "display_name": "Python 3 (ipykernel)",
   "language": "python",
   "name": "python3"
  },
  "language_info": {
   "codemirror_mode": {
    "name": "ipython",
    "version": 3
   },
   "file_extension": ".py",
   "mimetype": "text/x-python",
   "name": "python",
   "nbconvert_exporter": "python",
   "pygments_lexer": "ipython3",
   "version": "3.9.12"
  }
 },
 "nbformat": 4,
 "nbformat_minor": 5
}
